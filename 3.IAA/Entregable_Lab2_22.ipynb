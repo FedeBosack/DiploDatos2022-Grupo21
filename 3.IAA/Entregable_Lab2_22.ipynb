{
  "cells": [
    {
      "cell_type": "markdown",
      "metadata": {
        "id": "735x23F5jyYc"
      },
      "source": [
        "# Laboratorio 2: Armado de un esquema de aprendizaje automático\n",
        "\n",
        "En el laboratorio final se espera que puedan poner en práctica los conocimientos adquiridos en el curso, trabajando con un conjunto de datos de clasificación.\n",
        "\n",
        "El objetivo es que se introduzcan en el desarrollo de un esquema para hacer tareas de aprendizaje automático: selección de un modelo, ajuste de hiperparámetros y evaluación.\n",
        "\n",
        "El conjunto de datos a utilizar está en `./data/loan_data.csv`. Si abren el archivo verán que al principio (las líneas que empiezan con `#`) describen el conjunto de datos y sus atributos (incluyendo el atributo de etiqueta o clase).\n",
        "\n",
        "Se espera que hagan uso de las herramientas vistas en el curso. Se espera que hagan uso especialmente de las herramientas brindadas por `scikit-learn`."
      ]
    },
    {
      "cell_type": "code",
      "execution_count": 91,
      "metadata": {
        "id": "PY1kEd0BjyYr"
      },
      "outputs": [],
      "source": [
        "import numpy as np\n",
        "import pandas as pd\n",
        "import itertools\n",
        "# TODO: Agregar las librerías que hagan falta\n",
        "from sklearn.model_selection import train_test_split\n",
        "import matplotlib.pyplot as plt\n",
        "#funcion plot\n",
        "def plot_confusion_matrix(cm, classes,\n",
        "                          normalize=False,\n",
        "                          title='Confusion matrix',\n",
        "                          cmap=plt.cm.Blues):\n",
        "    \"\"\"\n",
        "    This function prints and plots the confusion matrix.\n",
        "    Normalization can be applied by setting `normalize=True`.\n",
        "    \"\"\"\n",
        "    if normalize:\n",
        "        cm = cm.astype('float') / cm.sum(axis=1)[:, np.newaxis]\n",
        "\n",
        "    plt.imshow(cm, interpolation='nearest', cmap=cmap)\n",
        "    plt.title(title)\n",
        "    plt.colorbar()\n",
        "    tick_marks = np.arange(len(classes))\n",
        "    plt.xticks(tick_marks, classes, rotation=45)\n",
        "    plt.yticks(tick_marks, classes)\n",
        "\n",
        "    fmt = '.2f' if normalize else 'd'\n",
        "    thresh = cm.max() / 2.\n",
        "    for i, j in itertools.product(range(cm.shape[0]), range(cm.shape[1])):\n",
        "        plt.text(j, i, format(cm[i, j], fmt),\n",
        "                 horizontalalignment=\"center\",\n",
        "                 color=\"white\" if cm[i, j] > thresh else \"black\")\n",
        "\n",
        "    plt.tight_layout()\n",
        "    plt.ylabel('Etiqueta correcta')\n",
        "    plt.xlabel('Etiqueta predicha')"
      ]
    },
    {
      "cell_type": "markdown",
      "metadata": {
        "id": "tcme5ZtOjyYx"
      },
      "source": [
        "## Carga de datos y división en entrenamiento y evaluación\n",
        "\n",
        "La celda siguiente se encarga de la carga de datos (haciendo uso de pandas). Estos serán los que se trabajarán en el resto del laboratorio."
      ]
    },
    {
      "cell_type": "code",
      "source": [
        "#dataset = pd.read_csv(\"./data/loan_data.csv\", comment=\"#\")\n",
        "url = 'https://drive.google.com/file/d/1BHWUzbBnrBX8PsF9Sqb80Gq96eyqbQtb/view?usp=sharing'\n",
        "file_id=url.split('/')[-2]\n",
        "dwn_url='https://drive.google.com/uc?id=' + file_id\n",
        "dataset = pd.read_csv(dwn_url, comment=\"#\")\n",
        "dataset[:3]"
      ],
      "metadata": {
        "id": "b8HmlGLOYrAB",
        "colab": {
          "base_uri": "https://localhost:8080/",
          "height": 143
        },
        "outputId": "8b0b09a2-5e20-47c4-82a7-9826dbb113a2"
      },
      "execution_count": 92,
      "outputs": [
        {
          "output_type": "execute_result",
          "data": {
            "text/plain": [
              "   TARGET   LOAN  MORTDUE     VALUE  YOJ  DEROG  DELINQ       CLAGE  NINQ  \\\n",
              "0       0   4700  88026.0  115506.0  6.0    0.0     0.0  182.248332   0.0   \n",
              "1       0  19300  39926.0  101208.0  4.0    0.0     0.0  140.051638   0.0   \n",
              "2       0   5700  71556.0   79538.0  2.0    0.0     0.0   92.643085   0.0   \n",
              "\n",
              "   CLNO    DEBTINC  \n",
              "0  27.0  29.209023  \n",
              "1  14.0  31.545694  \n",
              "2  15.0  41.210012  "
            ],
            "text/html": [
              "\n",
              "  <div id=\"df-4f1736b2-f52d-4297-bac7-e5e78e07520f\">\n",
              "    <div class=\"colab-df-container\">\n",
              "      <div>\n",
              "<style scoped>\n",
              "    .dataframe tbody tr th:only-of-type {\n",
              "        vertical-align: middle;\n",
              "    }\n",
              "\n",
              "    .dataframe tbody tr th {\n",
              "        vertical-align: top;\n",
              "    }\n",
              "\n",
              "    .dataframe thead th {\n",
              "        text-align: right;\n",
              "    }\n",
              "</style>\n",
              "<table border=\"1\" class=\"dataframe\">\n",
              "  <thead>\n",
              "    <tr style=\"text-align: right;\">\n",
              "      <th></th>\n",
              "      <th>TARGET</th>\n",
              "      <th>LOAN</th>\n",
              "      <th>MORTDUE</th>\n",
              "      <th>VALUE</th>\n",
              "      <th>YOJ</th>\n",
              "      <th>DEROG</th>\n",
              "      <th>DELINQ</th>\n",
              "      <th>CLAGE</th>\n",
              "      <th>NINQ</th>\n",
              "      <th>CLNO</th>\n",
              "      <th>DEBTINC</th>\n",
              "    </tr>\n",
              "  </thead>\n",
              "  <tbody>\n",
              "    <tr>\n",
              "      <th>0</th>\n",
              "      <td>0</td>\n",
              "      <td>4700</td>\n",
              "      <td>88026.0</td>\n",
              "      <td>115506.0</td>\n",
              "      <td>6.0</td>\n",
              "      <td>0.0</td>\n",
              "      <td>0.0</td>\n",
              "      <td>182.248332</td>\n",
              "      <td>0.0</td>\n",
              "      <td>27.0</td>\n",
              "      <td>29.209023</td>\n",
              "    </tr>\n",
              "    <tr>\n",
              "      <th>1</th>\n",
              "      <td>0</td>\n",
              "      <td>19300</td>\n",
              "      <td>39926.0</td>\n",
              "      <td>101208.0</td>\n",
              "      <td>4.0</td>\n",
              "      <td>0.0</td>\n",
              "      <td>0.0</td>\n",
              "      <td>140.051638</td>\n",
              "      <td>0.0</td>\n",
              "      <td>14.0</td>\n",
              "      <td>31.545694</td>\n",
              "    </tr>\n",
              "    <tr>\n",
              "      <th>2</th>\n",
              "      <td>0</td>\n",
              "      <td>5700</td>\n",
              "      <td>71556.0</td>\n",
              "      <td>79538.0</td>\n",
              "      <td>2.0</td>\n",
              "      <td>0.0</td>\n",
              "      <td>0.0</td>\n",
              "      <td>92.643085</td>\n",
              "      <td>0.0</td>\n",
              "      <td>15.0</td>\n",
              "      <td>41.210012</td>\n",
              "    </tr>\n",
              "  </tbody>\n",
              "</table>\n",
              "</div>\n",
              "      <button class=\"colab-df-convert\" onclick=\"convertToInteractive('df-4f1736b2-f52d-4297-bac7-e5e78e07520f')\"\n",
              "              title=\"Convert this dataframe to an interactive table.\"\n",
              "              style=\"display:none;\">\n",
              "        \n",
              "  <svg xmlns=\"http://www.w3.org/2000/svg\" height=\"24px\"viewBox=\"0 0 24 24\"\n",
              "       width=\"24px\">\n",
              "    <path d=\"M0 0h24v24H0V0z\" fill=\"none\"/>\n",
              "    <path d=\"M18.56 5.44l.94 2.06.94-2.06 2.06-.94-2.06-.94-.94-2.06-.94 2.06-2.06.94zm-11 1L8.5 8.5l.94-2.06 2.06-.94-2.06-.94L8.5 2.5l-.94 2.06-2.06.94zm10 10l.94 2.06.94-2.06 2.06-.94-2.06-.94-.94-2.06-.94 2.06-2.06.94z\"/><path d=\"M17.41 7.96l-1.37-1.37c-.4-.4-.92-.59-1.43-.59-.52 0-1.04.2-1.43.59L10.3 9.45l-7.72 7.72c-.78.78-.78 2.05 0 2.83L4 21.41c.39.39.9.59 1.41.59.51 0 1.02-.2 1.41-.59l7.78-7.78 2.81-2.81c.8-.78.8-2.07 0-2.86zM5.41 20L4 18.59l7.72-7.72 1.47 1.35L5.41 20z\"/>\n",
              "  </svg>\n",
              "      </button>\n",
              "      \n",
              "  <style>\n",
              "    .colab-df-container {\n",
              "      display:flex;\n",
              "      flex-wrap:wrap;\n",
              "      gap: 12px;\n",
              "    }\n",
              "\n",
              "    .colab-df-convert {\n",
              "      background-color: #E8F0FE;\n",
              "      border: none;\n",
              "      border-radius: 50%;\n",
              "      cursor: pointer;\n",
              "      display: none;\n",
              "      fill: #1967D2;\n",
              "      height: 32px;\n",
              "      padding: 0 0 0 0;\n",
              "      width: 32px;\n",
              "    }\n",
              "\n",
              "    .colab-df-convert:hover {\n",
              "      background-color: #E2EBFA;\n",
              "      box-shadow: 0px 1px 2px rgba(60, 64, 67, 0.3), 0px 1px 3px 1px rgba(60, 64, 67, 0.15);\n",
              "      fill: #174EA6;\n",
              "    }\n",
              "\n",
              "    [theme=dark] .colab-df-convert {\n",
              "      background-color: #3B4455;\n",
              "      fill: #D2E3FC;\n",
              "    }\n",
              "\n",
              "    [theme=dark] .colab-df-convert:hover {\n",
              "      background-color: #434B5C;\n",
              "      box-shadow: 0px 1px 3px 1px rgba(0, 0, 0, 0.15);\n",
              "      filter: drop-shadow(0px 1px 2px rgba(0, 0, 0, 0.3));\n",
              "      fill: #FFFFFF;\n",
              "    }\n",
              "  </style>\n",
              "\n",
              "      <script>\n",
              "        const buttonEl =\n",
              "          document.querySelector('#df-4f1736b2-f52d-4297-bac7-e5e78e07520f button.colab-df-convert');\n",
              "        buttonEl.style.display =\n",
              "          google.colab.kernel.accessAllowed ? 'block' : 'none';\n",
              "\n",
              "        async function convertToInteractive(key) {\n",
              "          const element = document.querySelector('#df-4f1736b2-f52d-4297-bac7-e5e78e07520f');\n",
              "          const dataTable =\n",
              "            await google.colab.kernel.invokeFunction('convertToInteractive',\n",
              "                                                     [key], {});\n",
              "          if (!dataTable) return;\n",
              "\n",
              "          const docLinkHtml = 'Like what you see? Visit the ' +\n",
              "            '<a target=\"_blank\" href=https://colab.research.google.com/notebooks/data_table.ipynb>data table notebook</a>'\n",
              "            + ' to learn more about interactive tables.';\n",
              "          element.innerHTML = '';\n",
              "          dataTable['output_type'] = 'display_data';\n",
              "          await google.colab.output.renderOutput(dataTable, element);\n",
              "          const docLink = document.createElement('div');\n",
              "          docLink.innerHTML = docLinkHtml;\n",
              "          element.appendChild(docLink);\n",
              "        }\n",
              "      </script>\n",
              "    </div>\n",
              "  </div>\n",
              "  "
            ]
          },
          "metadata": {},
          "execution_count": 92
        }
      ]
    },
    {
      "cell_type": "code",
      "execution_count": 93,
      "metadata": {
        "colab": {
          "base_uri": "https://localhost:8080/"
        },
        "id": "vs-0B3sWjyYz",
        "outputId": "9867a42f-7f2f-4361-c96c-aaf1dd616dda"
      },
      "outputs": [
        {
          "output_type": "execute_result",
          "data": {
            "text/plain": [
              "Index(['TARGET', 'LOAN', 'MORTDUE', 'VALUE', 'YOJ', 'DEROG', 'DELINQ', 'CLAGE',\n",
              "       'NINQ', 'CLNO', 'DEBTINC'],\n",
              "      dtype='object')"
            ]
          },
          "metadata": {},
          "execution_count": 93
        }
      ],
      "source": [
        "# División entre instancias y etiquetas\n",
        "X, y = dataset.iloc[:, 1:], dataset.TARGET\n",
        "\n",
        "# división entre entrenamiento y evaluación\n",
        "X_train, X_test, y_train, y_test = train_test_split(X, y, test_size=0.2, random_state=123)\n",
        "\n",
        "dataset.keys()"
      ]
    },
    {
      "cell_type": "markdown",
      "metadata": {
        "id": "EHWIFFz-jyZD"
      },
      "source": [
        "\n",
        "Documentación:\n",
        "\n",
        "- https://scikit-learn.org/stable/modules/generated/sklearn.model_selection.train_test_split.html"
      ]
    },
    {
      "cell_type": "markdown",
      "metadata": {
        "id": "7d13yLXHjyZF"
      },
      "source": [
        "## Ejercicio 1: Descripción de los Datos y la Tarea\n",
        "\n",
        "Responder las siguientes preguntas:\n",
        "\n",
        "1. ¿De qué se trata el conjunto de datos?\n",
        "2. ¿Cuál es la variable objetivo que hay que predecir? ¿Qué significado tiene?\n",
        "3. ¿Qué información (atributos) hay disponible para hacer la predicción?\n",
        "4. ¿Qué atributos imagina ud. que son los más determinantes para la predicción?\n",
        "\n",
        "**No hace falta escribir código para responder estas preguntas.**\n"
      ]
    },
    {
      "cell_type": "markdown",
      "source": [
        "### **1.** ¿De qué se trata el conjunto de datos?"
      ],
      "metadata": {
        "id": "3IPzUOqmY7zg"
      }
    },
    {
      "cell_type": "markdown",
      "source": [
        "El conjunto de datos muestra informacion de referencia y de desempeño de credito de solicitantes recientes de un banco a los cuales se les otorgaron lineas de credito de equidad de vivienda siguiendo las recomendaciones de la Ley de Creditos de Equidad de Vivienda.\n",
        "\n",
        "- Traata sobre el **V**alor **A**cumulado de la **V**ivienda (HMEQ, por sus siglas en inglés) y contiene información de referencia y rendimiento de 5960 préstamos recientes con garantía hipotecaria. \n",
        "\n",
        "- El target es una variable binaria que indica si un solicitante finalmente incumplió o fue gravemente delincuente. Este resultado adverso ocurrió en 1189 casos (20%). Para cada solicitante se registraron 12 variables de entrada.\n",
        "\n",
        "El contexto en el cual se uso el dataset es el siguiente: \n",
        "- El departamento de crédito al consumo de un banco quiere automatizar el proceso de toma de decisiones para la aprobación de líneas de crédito con garantía hipotecaria. Para ello harán seguir las recomendaciones de la Ley de Igualdad de Oportunidades de Crédito para crear un modelo de calificación crediticia empíricamente derivado y estadísticamente sólido. \n",
        "- El modelo se basará en datos recopilados de solicitantes recientes a los que se les otorgó crédito a través de el proceso actual de suscripción de préstamos. El modelo se construirá a partir de herramientas de modelado predictivo, pero el modelo creado debe ser lo suficientemente interpretable para proporcionar una razón para cualquier acción adversa (rechazos).\n"
      ],
      "metadata": {
        "id": "uBKyTdi-Y5zh"
      }
    },
    {
      "cell_type": "markdown",
      "source": [
        "###**2.** ¿Cuál es la variable objetivo que hay que predecir? ¿Qué significado tiene?"
      ],
      "metadata": {
        "id": "Q54MggRqZRyp"
      }
    },
    {
      "cell_type": "markdown",
      "source": [
        "La variable objetivo que hay que predecir es **TARGET/BAD**, la misma es una variable binaria que indica:\n",
        "- 1 = El cliente incumplio o delinquio gravemente con el prestamo\n",
        "- 0 = El prestamo fue reembolsado correspondientemente"
      ],
      "metadata": {
        "id": "TRkA3VqMZHY6"
      }
    },
    {
      "cell_type": "markdown",
      "source": [
        "###**3.** ¿Qué información (atributos) hay disponible para hacer la predicción?"
      ],
      "metadata": {
        "id": "qcQrD6aGZaZg"
      }
    },
    {
      "cell_type": "code",
      "source": [
        "X.columns"
      ],
      "metadata": {
        "colab": {
          "base_uri": "https://localhost:8080/"
        },
        "id": "_Xg6_rSdZbDV",
        "outputId": "b0ccca83-d939-4558-d9a5-54d9aafe63e5"
      },
      "execution_count": 94,
      "outputs": [
        {
          "output_type": "execute_result",
          "data": {
            "text/plain": [
              "Index(['LOAN', 'MORTDUE', 'VALUE', 'YOJ', 'DEROG', 'DELINQ', 'CLAGE', 'NINQ',\n",
              "       'CLNO', 'DEBTINC'],\n",
              "      dtype='object')"
            ]
          },
          "metadata": {},
          "execution_count": 94
        }
      ]
    },
    {
      "cell_type": "markdown",
      "source": [
        " *  `LOAN` Importe de la solicitud de préstamo\n",
        " * `MORTDUE` Cantidad adeudada en la hipoteca existente $^1$\n",
        " * `VALUE`   Valor actual de la propiedad\n",
        " * `YOJ`     Años en el trabajo actual\n",
        " * `DEROG`   Numero de informes derogatorios importantes\n",
        " * `DELINQ`  Numero de lineas de credito morosas\n",
        " * `CLAGE`   Edad de la  Trade Line$^2$ mas antigua en meses\n",
        " * `NINQ`    Numero de lineas de credito recientes\n",
        " * `CLNO`    Number de lineas de credito actuales\n",
        " * `DEBTINC` Relacion deuda sobre ingresos o indice de endeudamiento\n",
        "\n",
        "$^1$ [*MORTDUE*]( https://www.kaggle.com/datasets/ajay1735/hmeq-data/discussion/1226792)   \n",
        "$^2$ [*TRADE LINE*](https://www.investopedia.com/terms/t/trade-line.asp)\n"
      ],
      "metadata": {
        "id": "aaduhVLmZYXy"
      }
    },
    {
      "cell_type": "markdown",
      "source": [
        "###**4.** ¿Qué atributos imagina ud. que son los más determinantes para la predicción?"
      ],
      "metadata": {
        "id": "xN5b34eJZtA6"
      }
    },
    {
      "cell_type": "markdown",
      "source": [
        "\n",
        "\n",
        "Consideramos que los atributos mas determinantes para la prediccion son `DEBTINC`, `VALUE`, `NINQ`, `CLNO` y `DELINQ`. Estimamos que `MORTDDUE` al ser un valor relativo al valor que se paga de la propiedad tambien va a ser representativo aunque no comprendemos muy bien que implica el valor de equidad dado en funcion del valor de la propiedad y la garantia hipotecaria."
      ],
      "metadata": {
        "id": "BfuMAzevZrEa"
      }
    },
    {
      "cell_type": "markdown",
      "metadata": {
        "id": "n_l0RbA5jyZK"
      },
      "source": [
        "## Ejercicio 2: Predicción con Modelos Lineales\n",
        "\n",
        "En este ejercicio se entrenarán modelos lineales de clasificación para predecir la variable objetivo.\n",
        "\n",
        "Para ello, deberán utilizar la clase SGDClassifier de scikit-learn.\n",
        "\n",
        "Documentación:\n",
        "- https://scikit-learn.org/stable/modules/sgd.html\n",
        "- https://scikit-learn.org/stable/modules/generated/sklearn.linear_model.SGDClassifier.html\n"
      ]
    },
    {
      "cell_type": "markdown",
      "metadata": {
        "id": "lNx152nOjyZP"
      },
      "source": [
        "### Ejercicio 2.1: SGDClassifier con hiperparámetros por defecto\n",
        "\n",
        "Entrenar y evaluar el clasificador SGDClassifier usando los valores por omisión de scikit-learn para todos los parámetros. Únicamente **fijar la semilla aleatoria** para hacer repetible el experimento.\n",
        "\n",
        "Evaluar sobre el conjunto de **entrenamiento** y sobre el conjunto de **evaluación**, reportando:\n",
        "- Accuracy\n",
        "- Precision\n",
        "- Recall\n",
        "- F1\n",
        "- matriz de confusión"
      ]
    },
    {
      "cell_type": "markdown",
      "source": [
        "- La **precision** es la proporción de positivos propuestos por el modelo que fueron correctos:\n",
        "\n",
        "$$Precision = \\frac{|Train \\cap Test|}{|Train|} = \\frac{TP}{TP + FP}$$\n",
        "\n",
        "El mejor valor es 1 y el peor valor es 0. \n",
        "\n",
        "-  La **recall** es la proporción de positivos correctos que fueron encontrados por el modelo:\n",
        "\n",
        "$$Recall = \\frac{|Train \\cap Test|}{|Test|} = \\frac{TP}{TP + FN}$$\n",
        "\n",
        "-  El valor **F1** se utiliza para combinar las medidas de precision y recall en un sólo valor.\n",
        "$$F_1 = \\frac{2 * Precision * Recall}{Precision + Recall}$$\n",
        "\n",
        "Para clasificación multiclase, se puede calcular una métrica por clase. Luego, las métricas se pueden promediar para obtener resultados \"macro\".\n",
        "Para obtener resultados \"micro\", se hacen primero cálculos globales para TP, FP, TN, FN y luego se calcula como un problema binario."
      ],
      "metadata": {
        "id": "arEmP9cb3iNn"
      }
    },
    {
      "cell_type": "code",
      "execution_count": 95,
      "metadata": {
        "id": "fxYWGrd0jyZW"
      },
      "outputs": [],
      "source": [
        "from sklearn.linear_model import SGDClassifier\n",
        "from sklearn.model_selection import cross_val_score\n",
        "from sklearn.model_selection import cross_val_predict\n",
        "from sklearn.metrics import confusion_matrix\n",
        "from sklearn.metrics import precision_score, recall_score, f1_score, accuracy_score"
      ]
    },
    {
      "cell_type": "code",
      "source": [
        "def print_metrics(y,yprecit):\n",
        "  print(f'Accuracy: {round(accuracy_score(y,yprecit),4)}')\n",
        "  print(f'Precision: {round(precision_score(y, yprecit),4)}')\n",
        "  print(f'Recall: {round(recall_score(y, yprecit),4)}') \n",
        "  print(f'F1 score: {round(f1_score(y,yprecit),4)}')\n",
        "  plot_confusion_matrix(confusion_matrix(y, yprecit),['0-reembolso','1-incumplió'])"
      ],
      "metadata": {
        "id": "G6Exr_B98HOa"
      },
      "execution_count": 96,
      "outputs": []
    },
    {
      "cell_type": "markdown",
      "source": [
        "La matriz se comporta de la siguiente manera\n",
        "\n",
        "TN | FP  \n",
        "FN | TP  \n",
        "\n",
        "Ya que considera 0 como clase negativa y 1 como clase positiva. sklearn siempre considera el número más pequeño como negativo y el número grande como positivo.\n",
        "\n",
        "La precisión será la suma de los elementos de la diagonal dividida por la suma de todos los elementos.p Los elementos de la diagonal son el número de predicciones correctas."
      ],
      "metadata": {
        "id": "KiS3ezIc6h3Y"
      }
    },
    {
      "cell_type": "markdown",
      "metadata": {
        "id": "GE9HgiWTjyZU"
      },
      "source": [
        "### Datos Entrenamiento"
      ]
    },
    {
      "cell_type": "code",
      "execution_count": 97,
      "metadata": {
        "id": "XzzcibTsjyZX",
        "colab": {
          "base_uri": "https://localhost:8080/"
        },
        "outputId": "5398453c-f4c3-402f-aff2-fe5102e049ce"
      },
      "outputs": [
        {
          "output_type": "stream",
          "name": "stdout",
          "text": [
            "[0.81481481 0.83501684 0.83501684 0.83783784 0.83783784]\n"
          ]
        }
      ],
      "source": [
        "#entrenamiento\n",
        "sgd_clf = SGDClassifier(random_state=123)\n",
        "sgd_clf.fit(X_train, y_train)\n",
        "print(cross_val_score(sgd_clf, X_train, y_train, cv=5, scoring=\"accuracy\"))\n",
        "#prediccion\n",
        "y_train_pred_sgd = cross_val_predict(sgd_clf, X_train, y_train, cv=5)"
      ]
    },
    {
      "cell_type": "code",
      "execution_count": 98,
      "metadata": {
        "id": "v6Hy2G1ljyZd",
        "colab": {
          "base_uri": "https://localhost:8080/",
          "height": 380
        },
        "outputId": "57760192-53a8-4649-d6e4-5907140b49e3"
      },
      "outputs": [
        {
          "output_type": "stream",
          "name": "stdout",
          "text": [
            "Accuracy: 0.8321\n",
            "Precision: 0.0\n",
            "Recall: 0.0\n",
            "F1 score: 0.0\n"
          ]
        },
        {
          "output_type": "display_data",
          "data": {
            "text/plain": [
              "<Figure size 432x288 with 2 Axes>"
            ],
            "image/png": "[encoded data removed]"
          },
          "metadata": {
            "needs_background": "light"
          }
        }
      ],
      "source": [
        "print_metrics(y_train,y_train_pred_sgd)"
      ]
    },
    {
      "cell_type": "markdown",
      "source": [
        "Vemos que el modelo al incio clasifica la gran mayoria como reembolsados, que por eso el Accuracy da alto, pero no asi las otras metricas"
      ],
      "metadata": {
        "id": "1dzA6vft9pS_"
      }
    },
    {
      "cell_type": "markdown",
      "metadata": {
        "id": "b5Os91wnjyZf"
      },
      "source": [
        "### Datos Validacion"
      ]
    },
    {
      "cell_type": "code",
      "execution_count": 99,
      "metadata": {
        "id": "2-rA6RUYjyZg",
        "colab": {
          "base_uri": "https://localhost:8080/"
        },
        "outputId": "9e7c74be-24f5-4a40-f565-f5008a100a93"
      },
      "outputs": [
        {
          "output_type": "execute_result",
          "data": {
            "text/plain": [
              "array([0, 0, 0, 0, 0, 0, 0, 0, 0, 0, 0, 0, 0, 0, 0, 0, 0, 0, 0, 0, 0, 0,\n",
              "       0, 0, 0, 0, 0, 0, 0, 0, 0, 0, 0, 0, 0, 0, 0, 0, 0, 0, 0, 0, 0, 0,\n",
              "       0, 0, 0, 0, 0, 0, 0, 0, 0, 0, 0, 0, 0, 0, 0, 0, 0, 0, 0, 0, 0, 0,\n",
              "       0, 0, 0, 0, 0, 0, 0, 0, 0, 0, 0, 0, 0, 0, 0, 0, 0, 0, 0, 0, 0, 0,\n",
              "       0, 0, 0, 0, 0, 0, 0, 0, 0, 0, 0, 0, 0, 0, 0, 0, 0, 0, 0, 0, 0, 0,\n",
              "       0, 0, 0, 0, 0, 0, 0, 0, 0, 0, 0, 0, 0, 0, 0, 0, 0, 0, 0, 0, 0, 0,\n",
              "       0, 0, 0, 0, 0, 0, 0, 0, 0, 0, 0, 0, 0, 0, 0, 0, 0, 0, 0, 0, 0, 0,\n",
              "       0, 0, 0, 0, 0, 0, 0, 0, 0, 0, 0, 0, 0, 0, 0, 0, 0, 0, 0, 0, 0, 0,\n",
              "       0, 0, 0, 0, 0, 0, 0, 0, 0, 0, 0, 0, 0, 0, 0, 0, 0, 0, 0, 0, 0, 0,\n",
              "       0, 0, 0, 0, 0, 0, 0, 0, 0, 0, 0, 0, 0, 0, 0, 0, 0, 0, 0, 0, 0, 0,\n",
              "       0, 0, 0, 0, 0, 0, 0, 0, 0, 0, 0, 0, 0, 0, 0, 0, 0, 0, 0, 0, 0, 0,\n",
              "       0, 0, 0, 0, 0, 0, 0, 0, 0, 0, 0, 0, 0, 0, 0, 0, 0, 0, 0, 0, 0, 0,\n",
              "       0, 0, 0, 0, 0, 0, 0, 0, 0, 0, 0, 0, 0, 0, 0, 0, 0, 0, 0, 0, 0, 0,\n",
              "       0, 0, 0, 0, 0, 0, 0, 0, 0, 0, 0, 0, 0, 0, 0, 0, 0, 0, 0, 0, 0, 0,\n",
              "       0, 0, 0, 0, 0, 0, 0, 0, 0, 0, 0, 0, 0, 0, 0, 0, 0, 0, 0, 0, 0, 0,\n",
              "       0, 0, 0, 0, 0, 0, 0, 0, 0, 0, 0, 0, 0, 0, 0, 0, 0, 0, 0, 0, 0, 0,\n",
              "       0, 0, 0, 0, 0, 0, 0, 0, 0, 0, 0, 0, 0, 0, 0, 0, 0, 0, 0])"
            ]
          },
          "metadata": {},
          "execution_count": 99
        }
      ],
      "source": [
        "sgd_clf.predict(X_test)"
      ]
    },
    {
      "cell_type": "markdown",
      "source": [
        "Vemos que el clasificador aprendio a clasificar todo como negativo, es decir como rembolso, por ende clasifica mal.\n",
        "\n",
        "Para ver si podemos cambiar las clasificaciones predecimos con la validacion cruzada."
      ],
      "metadata": {
        "id": "evcKJ8jG-jIb"
      }
    },
    {
      "cell_type": "code",
      "execution_count": 100,
      "metadata": {
        "id": "ZXUounD-jyZj",
        "colab": {
          "base_uri": "https://localhost:8080/"
        },
        "outputId": "290eccbb-e89b-431e-eec0-c802f8f13fef"
      },
      "outputs": [
        {
          "output_type": "execute_result",
          "data": {
            "text/plain": [
              "array([0.28      , 0.17567568, 0.82432432, 0.17567568, 0.81081081])"
            ]
          },
          "metadata": {},
          "execution_count": 100
        }
      ],
      "source": [
        "cross_val_score(sgd_clf, X_test, y_test, cv=5, scoring=\"accuracy\")"
      ]
    },
    {
      "cell_type": "code",
      "execution_count": 101,
      "metadata": {
        "id": "U0KGqiTBjyZk"
      },
      "outputs": [],
      "source": [
        "y_test_pred_sgd = cross_val_predict(sgd_clf, X_test, y_test, cv=5)"
      ]
    },
    {
      "cell_type": "code",
      "execution_count": 102,
      "metadata": {
        "id": "psd4_LktjyZm",
        "colab": {
          "base_uri": "https://localhost:8080/",
          "height": 380
        },
        "outputId": "6d6291e5-7aad-4346-d747-62fc2009d9c7"
      },
      "outputs": [
        {
          "output_type": "stream",
          "name": "stdout",
          "text": [
            "Accuracy: 0.4528\n",
            "Precision: 0.1822\n",
            "Recall: 0.5821\n",
            "F1 score: 0.2776\n"
          ]
        },
        {
          "output_type": "display_data",
          "data": {
            "text/plain": [
              "<Figure size 432x288 with 2 Axes>"
            ],
            "image/png": "[encoded data removed]"
          },
          "metadata": {
            "needs_background": "light"
          }
        }
      ],
      "source": [
        "print_metrics(y_test,y_test_pred_sgd)"
      ]
    },
    {
      "cell_type": "markdown",
      "source": [
        "Vemos que el modelo al incio clasifica un poco mejor la gran mayoria como reembolsados, que por eso el Accuracy da alto, pero no asi las otras metricas"
      ],
      "metadata": {
        "id": "6YOlRRls-DKI"
      }
    },
    {
      "cell_type": "markdown",
      "metadata": {
        "id": "5yQciV9jjyZq"
      },
      "source": [
        "### Ejercicio 2.2: Ajuste de Hiperparámetros\n",
        "\n",
        "Seleccionar valores para los hiperparámetros principales del SGDClassifier. Como mínimo, probar diferentes funciones de loss, tasas de entrenamiento y tasas de regularización.\n",
        "\n",
        "Para ello, usar grid-search y 5-fold cross-validation sobre el conjunto de entrenamiento para explorar muchas combinaciones posibles de valores.\n",
        "\n",
        "Reportar accuracy promedio y varianza para todas las configuraciones.\n",
        "\n",
        "Para la mejor configuración encontrada, evaluar sobre el conjunto de **entrenamiento** y sobre el conjunto de **evaluación**, reportando:\n",
        "- Accuracy\n",
        "- Precision\n",
        "- Recall\n",
        "- F1\n",
        "- matriz de confusión\n",
        "\n",
        "Documentación:\n",
        "- https://scikit-learn.org/stable/modules/grid_search.html\n",
        "- https://scikit-learn.org/stable/modules/generated/sklearn.model_selection.GridSearchCV.html"
      ]
    },
    {
      "cell_type": "markdown",
      "metadata": {
        "id": "137xaHTSjyZr"
      },
      "source": [
        "### Ajuste de hiperparametros"
      ]
    },
    {
      "cell_type": "code",
      "execution_count": 103,
      "metadata": {
        "id": "ZO4k-D8ljyZs",
        "colab": {
          "base_uri": "https://localhost:8080/"
        },
        "outputId": "b5f872e0-4606-490f-81be-8aa92970d79a"
      },
      "outputs": [
        {
          "output_type": "stream",
          "name": "stderr",
          "text": [
            "/usr/local/lib/python3.7/dist-packages/sklearn/model_selection/_validation.py:372: FitFailedWarning: \n",
            "6000 fits failed out of a total of 30000.\n",
            "The score on these train-test partitions for these parameters will be set to nan.\n",
            "If these failures are not expected, you can try to debug them by setting error_score='raise'.\n",
            "\n",
            "Below are more details about the failures:\n",
            "--------------------------------------------------------------------------------\n",
            "6000 fits failed with the following error:\n",
            "Traceback (most recent call last):\n",
            "  File \"/usr/local/lib/python3.7/dist-packages/sklearn/model_selection/_validation.py\", line 680, in _fit_and_score\n",
            "    estimator.fit(X_train, y_train, **fit_params)\n",
            "  File \"/usr/local/lib/python3.7/dist-packages/sklearn/linear_model/_stochastic_gradient.py\", line 892, in fit\n",
            "    sample_weight=sample_weight,\n",
            "  File \"/usr/local/lib/python3.7/dist-packages/sklearn/linear_model/_stochastic_gradient.py\", line 649, in _fit\n",
            "    self._validate_params()\n",
            "  File \"/usr/local/lib/python3.7/dist-packages/sklearn/linear_model/_stochastic_gradient.py\", line 162, in _validate_params\n",
            "    raise ValueError(\"The loss %s is not supported. \" % self.loss)\n",
            "ValueError: The loss log_loss is not supported. \n",
            "\n",
            "  warnings.warn(some_fits_failed_message, FitFailedWarning)\n",
            "/usr/local/lib/python3.7/dist-packages/sklearn/model_selection/_search.py:972: UserWarning: One or more of the test scores are non-finite: [0.83210483 0.83681864 0.6976431  ... 0.70075075 0.78691874 0.72502503]\n",
            "  category=UserWarning,\n"
          ]
        },
        {
          "output_type": "execute_result",
          "data": {
            "text/plain": [
              "GridSearchCV(cv=5, estimator=SGDClassifier(random_state=123),\n",
              "             param_grid=[{'alpha': array([0.01      , 0.01444444, 0.01888889, 0.02333333, 0.02777778,\n",
              "       0.03222222, 0.03666667, 0.04111111, 0.04555556, 0.05      ]),\n",
              "                          'eta0': array([0.01      , 0.01444444, 0.01888889, 0.02333333, 0.02777778,\n",
              "       0.03222222, 0.03666667, 0.04111111, 0.04555556, 0.05      ]),\n",
              "                          'learning_rate': ['optimal', 'constant', 'invscaling',\n",
              "                                            'adaptive'],\n",
              "                          'loss': ['hinge', 'log_loss', 'modified_huber',\n",
              "                                   'squared_hinge', 'perceptron'],\n",
              "                          'penalty': ['l2', 'l1', 'elasticnet']}],\n",
              "             scoring='accuracy')"
            ]
          },
          "metadata": {},
          "execution_count": 103
        }
      ],
      "source": [
        "from sklearn.model_selection import GridSearchCV\n",
        "\n",
        "param_grid_sgd = [{\n",
        "    'loss':['hinge', 'log_loss', 'modified_huber', 'squared_hinge', 'perceptron'],\n",
        "    'penalty': ['l2', 'l1', 'elasticnet'],\n",
        "    'alpha': np.linspace(0.01, 0.05, 10),\n",
        "    'learning_rate' : ['optimal', 'constant', 'invscaling','adaptive'],\n",
        "    'eta0': np.linspace(0.01, 0.05, 10)\n",
        "}]\n",
        "\n",
        "grid_search_sgd = GridSearchCV(sgd_clf, param_grid_sgd, cv=5, scoring=\"accuracy\")\n",
        "\n",
        "grid_search_sgd.fit(X_train, y_train)"
      ]
    },
    {
      "cell_type": "code",
      "execution_count": 104,
      "metadata": {
        "id": "-XhhC8lsjyZ-",
        "colab": {
          "base_uri": "https://localhost:8080/",
          "height": 455
        },
        "outputId": "675b6aa4-103c-42d7-831b-be94f663944f"
      },
      "outputs": [
        {
          "output_type": "execute_result",
          "data": {
            "text/plain": [
              "                                                                                               params  \\\n",
              "kernel                                                                                                  \n",
              "0.03222222222222222_0.04111111111111111_adaptiv...  {'alpha': 0.03222222222222222, 'eta0': 0.04111...   \n",
              "0.01888888888888889_0.02333333333333333_constan...  {'alpha': 0.01888888888888889, 'eta0': 0.02333...   \n",
              "0.03666666666666667_0.01888888888888889_optimal...  {'alpha': 0.03666666666666667, 'eta0': 0.01888...   \n",
              "0.03666666666666667_0.02333333333333333_optimal...  {'alpha': 0.03666666666666667, 'eta0': 0.02333...   \n",
              "0.03666666666666667_0.027777777777777776_optima...  {'alpha': 0.03666666666666667, 'eta0': 0.02777...   \n",
              "...                                                                                               ...   \n",
              "0.01888888888888889_0.03222222222222222_adaptiv...  {'alpha': 0.01888888888888889, 'eta0': 0.03222...   \n",
              "0.014444444444444444_0.01_adaptive_log_loss_l1      {'alpha': 0.014444444444444444, 'eta0': 0.01, ...   \n",
              "0.014444444444444444_0.01_adaptive_log_loss_ela...  {'alpha': 0.014444444444444444, 'eta0': 0.01, ...   \n",
              "0.04555555555555556_0.03222222222222222_adaptiv...  {'alpha': 0.04555555555555556, 'eta0': 0.03222...   \n",
              "0.04111111111111111_0.014444444444444444_consta...  {'alpha': 0.04111111111111111, 'eta0': 0.01444...   \n",
              "\n",
              "                                                    rank_test_score  \\\n",
              "kernel                                                                \n",
              "0.03222222222222222_0.04111111111111111_adaptiv...                1   \n",
              "0.01888888888888889_0.02333333333333333_constan...                2   \n",
              "0.03666666666666667_0.01888888888888889_optimal...                2   \n",
              "0.03666666666666667_0.02333333333333333_optimal...                2   \n",
              "0.03666666666666667_0.027777777777777776_optima...                2   \n",
              "...                                                             ...   \n",
              "0.01888888888888889_0.03222222222222222_adaptiv...             5996   \n",
              "0.014444444444444444_0.01_adaptive_log_loss_l1                 5997   \n",
              "0.014444444444444444_0.01_adaptive_log_loss_ela...             5998   \n",
              "0.04555555555555556_0.03222222222222222_adaptiv...             5999   \n",
              "0.04111111111111111_0.014444444444444444_consta...             6000   \n",
              "\n",
              "                                                    mean_test_score  \\\n",
              "kernel                                                                \n",
              "0.03222222222222222_0.04111111111111111_adaptiv...         0.838846   \n",
              "0.01888888888888889_0.02333333333333333_constan...         0.838170   \n",
              "0.03666666666666667_0.01888888888888889_optimal...         0.838170   \n",
              "0.03666666666666667_0.02333333333333333_optimal...         0.838170   \n",
              "0.03666666666666667_0.027777777777777776_optima...         0.838170   \n",
              "...                                                             ...   \n",
              "0.01888888888888889_0.03222222222222222_adaptiv...              NaN   \n",
              "0.014444444444444444_0.01_adaptive_log_loss_l1                  NaN   \n",
              "0.014444444444444444_0.01_adaptive_log_loss_ela...              NaN   \n",
              "0.04555555555555556_0.03222222222222222_adaptiv...              NaN   \n",
              "0.04111111111111111_0.014444444444444444_consta...              NaN   \n",
              "\n",
              "                                                    std_test_score  \n",
              "kernel                                                              \n",
              "0.03222222222222222_0.04111111111111111_adaptiv...        0.009284  \n",
              "0.01888888888888889_0.02333333333333333_constan...        0.003502  \n",
              "0.03666666666666667_0.01888888888888889_optimal...        0.003502  \n",
              "0.03666666666666667_0.02333333333333333_optimal...        0.003502  \n",
              "0.03666666666666667_0.027777777777777776_optima...        0.003502  \n",
              "...                                                            ...  \n",
              "0.01888888888888889_0.03222222222222222_adaptiv...             NaN  \n",
              "0.014444444444444444_0.01_adaptive_log_loss_l1                 NaN  \n",
              "0.014444444444444444_0.01_adaptive_log_loss_ela...             NaN  \n",
              "0.04555555555555556_0.03222222222222222_adaptiv...             NaN  \n",
              "0.04111111111111111_0.014444444444444444_consta...             NaN  \n",
              "\n",
              "[6000 rows x 4 columns]"
            ],
            "text/html": [
              "\n",
              "  <div id=\"df-3c142af0-26d0-4564-b0ad-189a6140f309\">\n",
              "    <div class=\"colab-df-container\">\n",
              "      <div>\n",
              "<style scoped>\n",
              "    .dataframe tbody tr th:only-of-type {\n",
              "        vertical-align: middle;\n",
              "    }\n",
              "\n",
              "    .dataframe tbody tr th {\n",
              "        vertical-align: top;\n",
              "    }\n",
              "\n",
              "    .dataframe thead th {\n",
              "        text-align: right;\n",
              "    }\n",
              "</style>\n",
              "<table border=\"1\" class=\"dataframe\">\n",
              "  <thead>\n",
              "    <tr style=\"text-align: right;\">\n",
              "      <th></th>\n",
              "      <th>params</th>\n",
              "      <th>rank_test_score</th>\n",
              "      <th>mean_test_score</th>\n",
              "      <th>std_test_score</th>\n",
              "    </tr>\n",
              "    <tr>\n",
              "      <th>kernel</th>\n",
              "      <th></th>\n",
              "      <th></th>\n",
              "      <th></th>\n",
              "      <th></th>\n",
              "    </tr>\n",
              "  </thead>\n",
              "  <tbody>\n",
              "    <tr>\n",
              "      <th>0.03222222222222222_0.04111111111111111_adaptive_hinge_elasticnet</th>\n",
              "      <td>{'alpha': 0.03222222222222222, 'eta0': 0.04111...</td>\n",
              "      <td>1</td>\n",
              "      <td>0.838846</td>\n",
              "      <td>0.009284</td>\n",
              "    </tr>\n",
              "    <tr>\n",
              "      <th>0.01888888888888889_0.02333333333333333_constant_modified_huber_elasticnet</th>\n",
              "      <td>{'alpha': 0.01888888888888889, 'eta0': 0.02333...</td>\n",
              "      <td>2</td>\n",
              "      <td>0.838170</td>\n",
              "      <td>0.003502</td>\n",
              "    </tr>\n",
              "    <tr>\n",
              "      <th>0.03666666666666667_0.01888888888888889_optimal_modified_huber_elasticnet</th>\n",
              "      <td>{'alpha': 0.03666666666666667, 'eta0': 0.01888...</td>\n",
              "      <td>2</td>\n",
              "      <td>0.838170</td>\n",
              "      <td>0.003502</td>\n",
              "    </tr>\n",
              "    <tr>\n",
              "      <th>0.03666666666666667_0.02333333333333333_optimal_modified_huber_elasticnet</th>\n",
              "      <td>{'alpha': 0.03666666666666667, 'eta0': 0.02333...</td>\n",
              "      <td>2</td>\n",
              "      <td>0.838170</td>\n",
              "      <td>0.003502</td>\n",
              "    </tr>\n",
              "    <tr>\n",
              "      <th>0.03666666666666667_0.027777777777777776_optimal_modified_huber_elasticnet</th>\n",
              "      <td>{'alpha': 0.03666666666666667, 'eta0': 0.02777...</td>\n",
              "      <td>2</td>\n",
              "      <td>0.838170</td>\n",
              "      <td>0.003502</td>\n",
              "    </tr>\n",
              "    <tr>\n",
              "      <th>...</th>\n",
              "      <td>...</td>\n",
              "      <td>...</td>\n",
              "      <td>...</td>\n",
              "      <td>...</td>\n",
              "    </tr>\n",
              "    <tr>\n",
              "      <th>0.01888888888888889_0.03222222222222222_adaptive_log_loss_l2</th>\n",
              "      <td>{'alpha': 0.01888888888888889, 'eta0': 0.03222...</td>\n",
              "      <td>5996</td>\n",
              "      <td>NaN</td>\n",
              "      <td>NaN</td>\n",
              "    </tr>\n",
              "    <tr>\n",
              "      <th>0.014444444444444444_0.01_adaptive_log_loss_l1</th>\n",
              "      <td>{'alpha': 0.014444444444444444, 'eta0': 0.01, ...</td>\n",
              "      <td>5997</td>\n",
              "      <td>NaN</td>\n",
              "      <td>NaN</td>\n",
              "    </tr>\n",
              "    <tr>\n",
              "      <th>0.014444444444444444_0.01_adaptive_log_loss_elasticnet</th>\n",
              "      <td>{'alpha': 0.014444444444444444, 'eta0': 0.01, ...</td>\n",
              "      <td>5998</td>\n",
              "      <td>NaN</td>\n",
              "      <td>NaN</td>\n",
              "    </tr>\n",
              "    <tr>\n",
              "      <th>0.04555555555555556_0.03222222222222222_adaptive_log_loss_l1</th>\n",
              "      <td>{'alpha': 0.04555555555555556, 'eta0': 0.03222...</td>\n",
              "      <td>5999</td>\n",
              "      <td>NaN</td>\n",
              "      <td>NaN</td>\n",
              "    </tr>\n",
              "    <tr>\n",
              "      <th>0.04111111111111111_0.014444444444444444_constant_log_loss_l2</th>\n",
              "      <td>{'alpha': 0.04111111111111111, 'eta0': 0.01444...</td>\n",
              "      <td>6000</td>\n",
              "      <td>NaN</td>\n",
              "      <td>NaN</td>\n",
              "    </tr>\n",
              "  </tbody>\n",
              "</table>\n",
              "<p>6000 rows × 4 columns</p>\n",
              "</div>\n",
              "      <button class=\"colab-df-convert\" onclick=\"convertToInteractive('df-3c142af0-26d0-4564-b0ad-189a6140f309')\"\n",
              "              title=\"Convert this dataframe to an interactive table.\"\n",
              "              style=\"display:none;\">\n",
              "        \n",
              "  <svg xmlns=\"http://www.w3.org/2000/svg\" height=\"24px\"viewBox=\"0 0 24 24\"\n",
              "       width=\"24px\">\n",
              "    <path d=\"M0 0h24v24H0V0z\" fill=\"none\"/>\n",
              "    <path d=\"M18.56 5.44l.94 2.06.94-2.06 2.06-.94-2.06-.94-.94-2.06-.94 2.06-2.06.94zm-11 1L8.5 8.5l.94-2.06 2.06-.94-2.06-.94L8.5 2.5l-.94 2.06-2.06.94zm10 10l.94 2.06.94-2.06 2.06-.94-2.06-.94-.94-2.06-.94 2.06-2.06.94z\"/><path d=\"M17.41 7.96l-1.37-1.37c-.4-.4-.92-.59-1.43-.59-.52 0-1.04.2-1.43.59L10.3 9.45l-7.72 7.72c-.78.78-.78 2.05 0 2.83L4 21.41c.39.39.9.59 1.41.59.51 0 1.02-.2 1.41-.59l7.78-7.78 2.81-2.81c.8-.78.8-2.07 0-2.86zM5.41 20L4 18.59l7.72-7.72 1.47 1.35L5.41 20z\"/>\n",
              "  </svg>\n",
              "      </button>\n",
              "      \n",
              "  <style>\n",
              "    .colab-df-container {\n",
              "      display:flex;\n",
              "      flex-wrap:wrap;\n",
              "      gap: 12px;\n",
              "    }\n",
              "\n",
              "    .colab-df-convert {\n",
              "      background-color: #E8F0FE;\n",
              "      border: none;\n",
              "      border-radius: 50%;\n",
              "      cursor: pointer;\n",
              "      display: none;\n",
              "      fill: #1967D2;\n",
              "      height: 32px;\n",
              "      padding: 0 0 0 0;\n",
              "      width: 32px;\n",
              "    }\n",
              "\n",
              "    .colab-df-convert:hover {\n",
              "      background-color: #E2EBFA;\n",
              "      box-shadow: 0px 1px 2px rgba(60, 64, 67, 0.3), 0px 1px 3px 1px rgba(60, 64, 67, 0.15);\n",
              "      fill: #174EA6;\n",
              "    }\n",
              "\n",
              "    [theme=dark] .colab-df-convert {\n",
              "      background-color: #3B4455;\n",
              "      fill: #D2E3FC;\n",
              "    }\n",
              "\n",
              "    [theme=dark] .colab-df-convert:hover {\n",
              "      background-color: #434B5C;\n",
              "      box-shadow: 0px 1px 3px 1px rgba(0, 0, 0, 0.15);\n",
              "      filter: drop-shadow(0px 1px 2px rgba(0, 0, 0, 0.3));\n",
              "      fill: #FFFFFF;\n",
              "    }\n",
              "  </style>\n",
              "\n",
              "      <script>\n",
              "        const buttonEl =\n",
              "          document.querySelector('#df-3c142af0-26d0-4564-b0ad-189a6140f309 button.colab-df-convert');\n",
              "        buttonEl.style.display =\n",
              "          google.colab.kernel.accessAllowed ? 'block' : 'none';\n",
              "\n",
              "        async function convertToInteractive(key) {\n",
              "          const element = document.querySelector('#df-3c142af0-26d0-4564-b0ad-189a6140f309');\n",
              "          const dataTable =\n",
              "            await google.colab.kernel.invokeFunction('convertToInteractive',\n",
              "                                                     [key], {});\n",
              "          if (!dataTable) return;\n",
              "\n",
              "          const docLinkHtml = 'Like what you see? Visit the ' +\n",
              "            '<a target=\"_blank\" href=https://colab.research.google.com/notebooks/data_table.ipynb>data table notebook</a>'\n",
              "            + ' to learn more about interactive tables.';\n",
              "          element.innerHTML = '';\n",
              "          dataTable['output_type'] = 'display_data';\n",
              "          await google.colab.output.renderOutput(dataTable, element);\n",
              "          const docLink = document.createElement('div');\n",
              "          docLink.innerHTML = docLinkHtml;\n",
              "          element.appendChild(docLink);\n",
              "        }\n",
              "      </script>\n",
              "    </div>\n",
              "  </div>\n",
              "  "
            ]
          },
          "metadata": {},
          "execution_count": 104
        }
      ],
      "source": [
        "results_df = pd.DataFrame(grid_search_sgd.cv_results_)\n",
        "results_df = results_df.sort_values(by=[\"rank_test_score\"])\n",
        "results_df = results_df.set_index(\n",
        "    results_df[\"params\"].apply(lambda x: \"_\".join(str(val) for val in x.values()))\n",
        ").rename_axis(\"kernel\")\n",
        "results_df[[\"params\", \"rank_test_score\", \"mean_test_score\", \"std_test_score\"]]"
      ]
    },
    {
      "cell_type": "code",
      "execution_count": 105,
      "metadata": {
        "id": "IZ5shX7IjyZ_",
        "colab": {
          "base_uri": "https://localhost:8080/"
        },
        "outputId": "6789f69a-774e-4788-accb-1b20016a0f0d"
      },
      "outputs": [
        {
          "output_type": "execute_result",
          "data": {
            "text/plain": [
              "{'alpha': 0.03222222222222222,\n",
              " 'eta0': 0.04111111111111111,\n",
              " 'learning_rate': 'adaptive',\n",
              " 'loss': 'hinge',\n",
              " 'penalty': 'elasticnet'}"
            ]
          },
          "metadata": {},
          "execution_count": 105
        }
      ],
      "source": [
        "grid_search_sgd.best_params_"
      ]
    },
    {
      "cell_type": "markdown",
      "metadata": {
        "id": "3gBekfChjyaG"
      },
      "source": [
        "### Entrenamiento"
      ]
    },
    {
      "cell_type": "code",
      "execution_count": 106,
      "metadata": {
        "id": "FTuxePVBjyaG",
        "colab": {
          "base_uri": "https://localhost:8080/"
        },
        "outputId": "0521c0eb-aa5c-4a57-f4a0-36af2014f833"
      },
      "outputs": [
        {
          "output_type": "execute_result",
          "data": {
            "text/plain": [
              "SGDClassifier(alpha=0.0322222222222, eta0=0.04111111111111111,\n",
              "              learning_rate='adaptive', penalty='elasticnet', random_state=123)"
            ]
          },
          "metadata": {},
          "execution_count": 106
        }
      ],
      "source": [
        "sgd_clf = SGDClassifier(alpha =0.0322222222222, loss='hinge',\\\n",
        "                        penalty = 'elasticnet', learning_rate ='adaptive', eta0 = 0.04111111111111111, random_state=123)\n",
        "sgd_clf.fit(X_train, y_train)"
      ]
    },
    {
      "cell_type": "code",
      "execution_count": 107,
      "metadata": {
        "id": "4GF6jbMJjyaH",
        "colab": {
          "base_uri": "https://localhost:8080/"
        },
        "outputId": "bcb31972-498f-47fe-ebbe-35b814e68214"
      },
      "outputs": [
        {
          "output_type": "execute_result",
          "data": {
            "text/plain": [
              "array([0.83838384, 0.84848485, 0.82154882, 0.84121622, 0.84459459])"
            ]
          },
          "metadata": {},
          "execution_count": 107
        }
      ],
      "source": [
        "from sklearn.model_selection import cross_val_score\n",
        "cross_val_score(sgd_clf, X_train, y_train, cv=5, scoring=\"accuracy\")"
      ]
    },
    {
      "cell_type": "code",
      "execution_count": 108,
      "metadata": {
        "id": "eqm-kebEjyaI"
      },
      "outputs": [],
      "source": [
        "y_train_pred_sgd = cross_val_predict(sgd_clf, X_train, y_train, cv=5)"
      ]
    },
    {
      "cell_type": "code",
      "execution_count": 109,
      "metadata": {
        "id": "b64Ix_v1jyaI",
        "colab": {
          "base_uri": "https://localhost:8080/",
          "height": 380
        },
        "outputId": "bd6c8631-7203-4a1b-e609-461aec42fb8c"
      },
      "outputs": [
        {
          "output_type": "stream",
          "name": "stdout",
          "text": [
            "Accuracy: 0.8388\n",
            "Precision: 0.5294\n",
            "Recall: 0.1116\n",
            "F1 score: 0.1843\n"
          ]
        },
        {
          "output_type": "display_data",
          "data": {
            "text/plain": [
              "<Figure size 432x288 with 2 Axes>"
            ],
            "image/png": "[encoded data removed]"
          },
          "metadata": {
            "needs_background": "light"
          }
        }
      ],
      "source": [
        "print_metrics(y_train,y_train_pred_sgd)"
      ]
    },
    {
      "cell_type": "markdown",
      "metadata": {
        "id": "7WJBDqMGjyaK"
      },
      "source": [
        "### Validacion"
      ]
    },
    {
      "cell_type": "code",
      "execution_count": 110,
      "metadata": {
        "id": "R2lmCfTsjyaK",
        "colab": {
          "base_uri": "https://localhost:8080/"
        },
        "outputId": "dd7eee26-d76a-4111-e1d0-024ea7ef90cf"
      },
      "outputs": [
        {
          "output_type": "execute_result",
          "data": {
            "text/plain": [
              "array([0, 1, 1, 1, 0, 0, 0, 0, 0, 0, 0, 0, 0, 0, 1, 0, 1, 0, 0, 0, 0, 0,\n",
              "       0, 0, 1, 0, 0, 1, 1, 0, 1, 0, 0, 0, 0, 0, 0, 1, 1, 0, 0, 0, 1, 1,\n",
              "       0, 0, 1, 1, 1, 1, 1, 1, 0, 0, 0, 1, 0, 0, 1, 0, 0, 1, 0, 1, 0, 1,\n",
              "       0, 0, 0, 0, 1, 0, 0, 1, 0, 1, 0, 0, 0, 1, 1, 0, 0, 0, 1, 0, 0, 1,\n",
              "       0, 1, 0, 0, 1, 0, 1, 1, 1, 1, 1, 1, 0, 0, 1, 0, 0, 0, 0, 0, 1, 0,\n",
              "       0, 0, 0, 1, 0, 1, 1, 1, 0, 1, 1, 1, 0, 1, 1, 1, 0, 0, 0, 0, 0, 1,\n",
              "       0, 0, 0, 0, 1, 1, 1, 0, 1, 0, 1, 1, 0, 0, 0, 1, 0, 0, 1, 1, 1, 1,\n",
              "       0, 1, 0, 0, 0, 0, 1, 0, 1, 0, 0, 0, 0, 0, 0, 0, 0, 1, 0, 0, 1, 0,\n",
              "       0, 1, 1, 0, 0, 0, 0, 0, 0, 0, 0, 0, 1, 0, 0, 1, 0, 1, 0, 0, 0, 1,\n",
              "       0, 0, 0, 1, 0, 1, 1, 0, 1, 0, 0, 0, 1, 1, 1, 1, 1, 0, 0, 1, 0, 1,\n",
              "       0, 0, 1, 0, 1, 0, 0, 1, 0, 0, 0, 0, 1, 0, 1, 1, 1, 1, 0, 0, 1, 1,\n",
              "       0, 0, 0, 0, 1, 1, 1, 1, 0, 0, 0, 1, 1, 0, 1, 0, 0, 0, 0, 0, 0, 1,\n",
              "       0, 0, 0, 1, 0, 0, 0, 1, 1, 1, 1, 0, 1, 0, 1, 0, 1, 0, 0, 0, 1, 1,\n",
              "       0, 1, 0, 0, 0, 0, 0, 0, 1, 0, 0, 0, 0, 0, 0, 1, 1, 1, 0, 0, 0, 1,\n",
              "       0, 0, 0, 0, 1, 1, 0, 0, 1, 0, 1, 0, 1, 0, 0, 0, 0, 0, 1, 0, 0, 0,\n",
              "       1, 0, 0, 0, 1, 0, 0, 0, 0, 0, 1, 1, 0, 0, 0, 0, 1, 0, 0, 0, 0, 0,\n",
              "       0, 0, 0, 0, 0, 0, 1, 1, 0, 0, 0, 0, 1, 1, 0, 1, 1, 1, 0])"
            ]
          },
          "metadata": {},
          "execution_count": 110
        }
      ],
      "source": [
        "sgd_clf.predict(X_test)"
      ]
    },
    {
      "cell_type": "code",
      "execution_count": 111,
      "metadata": {
        "id": "-ayoBxowjyaL",
        "colab": {
          "base_uri": "https://localhost:8080/"
        },
        "outputId": "72e158f7-aad6-4e30-d148-6292ae01305a"
      },
      "outputs": [
        {
          "output_type": "execute_result",
          "data": {
            "text/plain": [
              "array([0.73333333, 0.71621622, 0.83783784, 0.77027027, 0.64864865])"
            ]
          },
          "metadata": {},
          "execution_count": 111
        }
      ],
      "source": [
        "cross_val_score(sgd_clf, X_test, y_test, cv=5, scoring=\"accuracy\")"
      ]
    },
    {
      "cell_type": "code",
      "execution_count": 112,
      "metadata": {
        "id": "66hfT6rTjyaL"
      },
      "outputs": [],
      "source": [
        "y_test_pred_sgd = cross_val_predict(sgd_clf, X_test, y_test, cv=5)"
      ]
    },
    {
      "cell_type": "code",
      "execution_count": 113,
      "metadata": {
        "id": "txPnHiB5jyaM",
        "colab": {
          "base_uri": "https://localhost:8080/",
          "height": 380
        },
        "outputId": "41f9620c-9a92-4eff-b976-2fc7425da836"
      },
      "outputs": [
        {
          "output_type": "stream",
          "name": "stdout",
          "text": [
            "Accuracy: 0.7412\n",
            "Precision: 0.2698\n",
            "Recall: 0.2537\n",
            "F1 score: 0.2615\n"
          ]
        },
        {
          "output_type": "display_data",
          "data": {
            "text/plain": [
              "<Figure size 432x288 with 2 Axes>"
            ],
            "image/png": "[encoded data removed]"
          },
          "metadata": {
            "needs_background": "light"
          }
        }
      ],
      "source": [
        "print_metrics(y_test,y_test_pred_sgd)"
      ]
    },
    {
      "cell_type": "markdown",
      "metadata": {
        "id": "6N0npo_vjyaN"
      },
      "source": [
        "## Ejercicio 3: Árboles de Decisión\n",
        "\n",
        "En este ejercicio se entrenarán árboles de decisión para predecir la variable objetivo.\n",
        "\n",
        "Para ello, deberán utilizar la clase DecisionTreeClassifier de scikit-learn.\n",
        "\n",
        "Documentación:\n",
        "- https://scikit-learn.org/stable/modules/tree.html\n",
        "  - https://scikit-learn.org/stable/modules/tree.html#tips-on-practical-use\n",
        "- https://scikit-learn.org/stable/modules/generated/sklearn.tree.DecisionTreeClassifier.html\n",
        "- https://scikit-learn.org/stable/auto_examples/tree/plot_unveil_tree_structure.html"
      ]
    },
    {
      "cell_type": "markdown",
      "metadata": {
        "id": "QN0JX-f8jyaP"
      },
      "source": [
        "### Ejercicio 3.1: DecisionTreeClassifier con hiperparámetros por defecto\n",
        "\n",
        "Entrenar y evaluar el clasificador DecisionTreeClassifier usando los valores por omisión de scikit-learn para todos los parámetros. Únicamente **fijar la semilla aleatoria** para hacer repetible el experimento.\n",
        "\n",
        "Evaluar sobre el conjunto de **entrenamiento** y sobre el conjunto de **evaluación**, reportando:\n",
        "- Accuracy\n",
        "- Precision\n",
        "- Recall\n",
        "- F1\n",
        "- matriz de confusión\n"
      ]
    },
    {
      "cell_type": "markdown",
      "metadata": {
        "id": "lE5inbVVjyaQ"
      },
      "source": [
        "### Entrenamiento"
      ]
    },
    {
      "cell_type": "code",
      "execution_count": 114,
      "metadata": {
        "id": "oTpVWD1SjyaR",
        "colab": {
          "base_uri": "https://localhost:8080/"
        },
        "outputId": "2ec217af-35f2-4fb8-9a04-7e43c5d45373"
      },
      "outputs": [
        {
          "output_type": "execute_result",
          "data": {
            "text/plain": [
              "DecisionTreeClassifier(random_state=123)"
            ]
          },
          "metadata": {},
          "execution_count": 114
        }
      ],
      "source": [
        "from sklearn.tree import DecisionTreeClassifier\n",
        "\n",
        "tree_clf = DecisionTreeClassifier(random_state=123)\n",
        "tree_clf.fit(X_train, y_train)"
      ]
    },
    {
      "cell_type": "code",
      "execution_count": 115,
      "metadata": {
        "id": "j6TfcZ0qjyaS",
        "colab": {
          "base_uri": "https://localhost:8080/"
        },
        "outputId": "f63ef3fd-b0e3-4a30-d126-152717ea7810"
      },
      "outputs": [
        {
          "output_type": "execute_result",
          "data": {
            "text/plain": [
              "array([0.88552189, 0.87542088, 0.86195286, 0.89189189, 0.88175676])"
            ]
          },
          "metadata": {},
          "execution_count": 115
        }
      ],
      "source": [
        "cross_val_score(tree_clf, X_train, y_train, cv=5, scoring=\"accuracy\")"
      ]
    },
    {
      "cell_type": "code",
      "execution_count": 116,
      "metadata": {
        "id": "cuzX0C2BjyaT"
      },
      "outputs": [],
      "source": [
        "y_train_pred_tree = cross_val_predict(tree_clf, X_train, y_train, cv=5)"
      ]
    },
    {
      "cell_type": "code",
      "execution_count": 117,
      "metadata": {
        "id": "njMjfjenjyaV",
        "colab": {
          "base_uri": "https://localhost:8080/",
          "height": 380
        },
        "outputId": "4ec919f8-d266-4553-835b-7e90f499fa66"
      },
      "outputs": [
        {
          "output_type": "stream",
          "name": "stdout",
          "text": [
            "Accuracy: 0.8793\n",
            "Precision: 0.6438\n",
            "Recall: 0.5826\n",
            "F1 score: 0.6117\n"
          ]
        },
        {
          "output_type": "display_data",
          "data": {
            "text/plain": [
              "<Figure size 432x288 with 2 Axes>"
            ],
            "image/png": "[encoded data removed]"
          },
          "metadata": {
            "needs_background": "light"
          }
        }
      ],
      "source": [
        "print_metrics(y_train,y_train_pred_tree)"
      ]
    },
    {
      "cell_type": "markdown",
      "metadata": {
        "id": "49vj0DfDjyaW"
      },
      "source": [
        "### Validacion"
      ]
    },
    {
      "cell_type": "code",
      "execution_count": 118,
      "metadata": {
        "id": "VhJJXCPpjyaW",
        "colab": {
          "base_uri": "https://localhost:8080/"
        },
        "outputId": "22665c4c-57f9-4677-b775-490562516cab"
      },
      "outputs": [
        {
          "output_type": "execute_result",
          "data": {
            "text/plain": [
              "array([0, 0, 0, 0, 0, 0, 0, 0, 1, 0, 0, 0, 0, 0, 0, 0, 0, 1, 0, 1, 0, 0,\n",
              "       0, 0, 1, 0, 0, 0, 1, 0, 0, 0, 0, 0, 0, 0, 0, 0, 0, 0, 0, 0, 0, 0,\n",
              "       1, 0, 0, 0, 0, 0, 1, 1, 0, 0, 0, 1, 0, 0, 0, 0, 0, 1, 0, 0, 0, 0,\n",
              "       0, 0, 0, 0, 0, 0, 0, 0, 0, 0, 0, 0, 0, 0, 0, 0, 0, 0, 0, 0, 1, 0,\n",
              "       0, 0, 0, 0, 0, 1, 0, 0, 0, 1, 0, 0, 0, 0, 0, 0, 0, 0, 0, 0, 0, 1,\n",
              "       0, 0, 1, 0, 0, 0, 0, 0, 0, 0, 0, 0, 0, 1, 0, 1, 0, 0, 0, 0, 0, 0,\n",
              "       0, 0, 0, 0, 0, 0, 0, 0, 0, 0, 0, 0, 0, 0, 0, 0, 0, 0, 1, 0, 0, 0,\n",
              "       0, 0, 0, 0, 0, 0, 0, 0, 0, 0, 0, 0, 0, 0, 0, 0, 0, 0, 0, 0, 0, 0,\n",
              "       0, 1, 0, 0, 1, 0, 0, 0, 0, 0, 0, 0, 0, 0, 0, 0, 0, 1, 1, 1, 0, 0,\n",
              "       0, 0, 0, 0, 0, 1, 0, 0, 0, 0, 1, 1, 1, 0, 0, 0, 0, 0, 0, 1, 0, 0,\n",
              "       0, 0, 0, 0, 0, 0, 0, 0, 1, 0, 0, 0, 0, 1, 1, 0, 0, 1, 0, 0, 0, 0,\n",
              "       0, 0, 0, 0, 0, 0, 0, 0, 0, 0, 0, 1, 0, 0, 0, 0, 0, 0, 0, 0, 0, 0,\n",
              "       1, 0, 0, 0, 1, 0, 0, 0, 0, 0, 0, 0, 1, 0, 0, 0, 0, 0, 0, 1, 1, 0,\n",
              "       0, 0, 0, 0, 0, 0, 1, 0, 0, 0, 0, 0, 0, 0, 1, 0, 0, 0, 0, 0, 0, 1,\n",
              "       0, 0, 0, 0, 0, 0, 1, 1, 0, 0, 1, 0, 0, 1, 1, 0, 0, 0, 0, 0, 0, 0,\n",
              "       0, 0, 0, 0, 0, 0, 0, 0, 1, 0, 1, 0, 0, 0, 0, 0, 1, 1, 1, 0, 0, 0,\n",
              "       0, 0, 0, 0, 0, 0, 0, 0, 1, 0, 0, 0, 1, 0, 0, 1, 0, 0, 0])"
            ]
          },
          "metadata": {},
          "execution_count": 118
        }
      ],
      "source": [
        "tree_clf.predict(X_test)"
      ]
    },
    {
      "cell_type": "code",
      "execution_count": 119,
      "metadata": {
        "id": "mTctbrC-jyaX",
        "colab": {
          "base_uri": "https://localhost:8080/"
        },
        "outputId": "ed4e65cc-09de-4539-8e4e-d552ee31998d"
      },
      "outputs": [
        {
          "output_type": "execute_result",
          "data": {
            "text/plain": [
              "array([0.74666667, 0.7972973 , 0.78378378, 0.83783784, 0.7972973 ])"
            ]
          },
          "metadata": {},
          "execution_count": 119
        }
      ],
      "source": [
        "cross_val_score(tree_clf, X_test, y_test, cv=5, scoring=\"accuracy\")"
      ]
    },
    {
      "cell_type": "code",
      "execution_count": 120,
      "metadata": {
        "id": "AFi99GWOjyaY"
      },
      "outputs": [],
      "source": [
        "y_test_pred_tree = cross_val_predict(tree_clf, X_test, y_test, cv=5)\n"
      ]
    },
    {
      "cell_type": "code",
      "execution_count": 121,
      "metadata": {
        "id": "FIl79KbxjyaY",
        "colab": {
          "base_uri": "https://localhost:8080/",
          "height": 380
        },
        "outputId": "235bf13a-39c1-45b4-f05b-6da7e17e0caf"
      },
      "outputs": [
        {
          "output_type": "stream",
          "name": "stdout",
          "text": [
            "Accuracy: 0.7925\n",
            "Precision: 0.4107\n",
            "Recall: 0.3433\n",
            "F1 score: 0.374\n"
          ]
        },
        {
          "output_type": "display_data",
          "data": {
            "text/plain": [
              "<Figure size 432x288 with 2 Axes>"
            ],
            "image/png": "[encoded data removed]"
          },
          "metadata": {
            "needs_background": "light"
          }
        }
      ],
      "source": [
        "print_metrics(y_test,y_test_pred_tree)"
      ]
    },
    {
      "cell_type": "markdown",
      "metadata": {
        "id": "9HZBnZdMjyaZ"
      },
      "source": [
        "### Ejercicio 3.2: Ajuste de Hiperparámetros\n",
        "\n",
        "Seleccionar valores para los hiperparámetros principales del DecisionTreeClassifier. Como mínimo, probar diferentes criterios de partición (criterion), profundidad máxima del árbol (max_depth), y cantidad mínima de samples por hoja (min_samples_leaf).\n",
        "\n",
        "Para ello, usar grid-search y 5-fold cross-validation sobre el conjunto de entrenamiento para explorar muchas combinaciones posibles de valores.\n",
        "\n",
        "Reportar accuracy promedio y varianza para todas las configuraciones.\n",
        "\n",
        "Para la mejor configuración encontrada, evaluar sobre el conjunto de **entrenamiento** y sobre el conjunto de **evaluación**, reportando:\n",
        "- Accuracy\n",
        "- Precision\n",
        "- Recall\n",
        "- F1\n",
        "- matriz de confusión\n",
        "\n",
        "\n",
        "Documentación:\n",
        "- https://scikit-learn.org/stable/modules/grid_search.html\n",
        "- https://scikit-learn.org/stable/modules/generated/sklearn.model_selection.GridSearchCV.html"
      ]
    },
    {
      "cell_type": "markdown",
      "metadata": {
        "id": "OSZ6R76kjyaa"
      },
      "source": [
        "### Ajuste de hiperparametros"
      ]
    },
    {
      "cell_type": "code",
      "execution_count": null,
      "metadata": {
        "id": "VSXFTdY7jyaa"
      },
      "outputs": [],
      "source": [
        "param_grid_tree = [{\n",
        "    'criterion':['gini', 'entropy', 'log_loss'],\n",
        "    'max_depth': [1,2,3,4,5,6,7,8,9,10],\n",
        "    'min_samples_leaf': [1,2,3,4,5,6,7,8,9,10],\n",
        "}]\n",
        "\n",
        "grid_search_tree = GridSearchCV(tree_clf, param_grid_tree,scoring=\"accuracy\", cv=5)\n",
        "\n",
        "grid_search_tree.fit(X_train, y_train)"
      ]
    },
    {
      "cell_type": "code",
      "execution_count": 123,
      "metadata": {
        "id": "r2wyrY32jyab",
        "colab": {
          "base_uri": "https://localhost:8080/",
          "height": 455
        },
        "outputId": "4323ea9f-33ea-4a65-d350-d624cf57a259"
      },
      "outputs": [
        {
          "output_type": "execute_result",
          "data": {
            "text/plain": [
              "                                                           params  \\\n",
              "kernel                                                              \n",
              "entropy_9_2     {'criterion': 'entropy', 'max_depth': 9, 'min_...   \n",
              "gini_9_2        {'criterion': 'gini', 'max_depth': 9, 'min_sam...   \n",
              "gini_10_1       {'criterion': 'gini', 'max_depth': 10, 'min_sa...   \n",
              "gini_9_3        {'criterion': 'gini', 'max_depth': 9, 'min_sam...   \n",
              "entropy_8_6     {'criterion': 'entropy', 'max_depth': 8, 'min_...   \n",
              "...                                                           ...   \n",
              "log_loss_3_8    {'criterion': 'log_loss', 'max_depth': 3, 'min...   \n",
              "log_loss_3_7    {'criterion': 'log_loss', 'max_depth': 3, 'min...   \n",
              "log_loss_3_6    {'criterion': 'log_loss', 'max_depth': 3, 'min...   \n",
              "log_loss_4_6    {'criterion': 'log_loss', 'max_depth': 4, 'min...   \n",
              "log_loss_10_10  {'criterion': 'log_loss', 'max_depth': 10, 'mi...   \n",
              "\n",
              "                rank_test_score  mean_test_score  std_test_score  \n",
              "kernel                                                            \n",
              "entropy_9_2                   1         0.896822        0.009774  \n",
              "gini_9_2                      2         0.896158        0.018883  \n",
              "gini_10_1                     3         0.894818        0.013659  \n",
              "gini_9_3                      4         0.894811        0.023097  \n",
              "entropy_8_6                   5         0.894808        0.006526  \n",
              "...                         ...              ...             ...  \n",
              "log_loss_3_8                296              NaN             NaN  \n",
              "log_loss_3_7                297              NaN             NaN  \n",
              "log_loss_3_6                298              NaN             NaN  \n",
              "log_loss_4_6                299              NaN             NaN  \n",
              "log_loss_10_10              300              NaN             NaN  \n",
              "\n",
              "[300 rows x 4 columns]"
            ],
            "text/html": [
              "\n",
              "  <div id=\"df-ca9a7ed1-04da-48b6-8a2a-d4d25a8a4c8b\">\n",
              "    <div class=\"colab-df-container\">\n",
              "      <div>\n",
              "<style scoped>\n",
              "    .dataframe tbody tr th:only-of-type {\n",
              "        vertical-align: middle;\n",
              "    }\n",
              "\n",
              "    .dataframe tbody tr th {\n",
              "        vertical-align: top;\n",
              "    }\n",
              "\n",
              "    .dataframe thead th {\n",
              "        text-align: right;\n",
              "    }\n",
              "</style>\n",
              "<table border=\"1\" class=\"dataframe\">\n",
              "  <thead>\n",
              "    <tr style=\"text-align: right;\">\n",
              "      <th></th>\n",
              "      <th>params</th>\n",
              "      <th>rank_test_score</th>\n",
              "      <th>mean_test_score</th>\n",
              "      <th>std_test_score</th>\n",
              "    </tr>\n",
              "    <tr>\n",
              "      <th>kernel</th>\n",
              "      <th></th>\n",
              "      <th></th>\n",
              "      <th></th>\n",
              "      <th></th>\n",
              "    </tr>\n",
              "  </thead>\n",
              "  <tbody>\n",
              "    <tr>\n",
              "      <th>entropy_9_2</th>\n",
              "      <td>{'criterion': 'entropy', 'max_depth': 9, 'min_...</td>\n",
              "      <td>1</td>\n",
              "      <td>0.896822</td>\n",
              "      <td>0.009774</td>\n",
              "    </tr>\n",
              "    <tr>\n",
              "      <th>gini_9_2</th>\n",
              "      <td>{'criterion': 'gini', 'max_depth': 9, 'min_sam...</td>\n",
              "      <td>2</td>\n",
              "      <td>0.896158</td>\n",
              "      <td>0.018883</td>\n",
              "    </tr>\n",
              "    <tr>\n",
              "      <th>gini_10_1</th>\n",
              "      <td>{'criterion': 'gini', 'max_depth': 10, 'min_sa...</td>\n",
              "      <td>3</td>\n",
              "      <td>0.894818</td>\n",
              "      <td>0.013659</td>\n",
              "    </tr>\n",
              "    <tr>\n",
              "      <th>gini_9_3</th>\n",
              "      <td>{'criterion': 'gini', 'max_depth': 9, 'min_sam...</td>\n",
              "      <td>4</td>\n",
              "      <td>0.894811</td>\n",
              "      <td>0.023097</td>\n",
              "    </tr>\n",
              "    <tr>\n",
              "      <th>entropy_8_6</th>\n",
              "      <td>{'criterion': 'entropy', 'max_depth': 8, 'min_...</td>\n",
              "      <td>5</td>\n",
              "      <td>0.894808</td>\n",
              "      <td>0.006526</td>\n",
              "    </tr>\n",
              "    <tr>\n",
              "      <th>...</th>\n",
              "      <td>...</td>\n",
              "      <td>...</td>\n",
              "      <td>...</td>\n",
              "      <td>...</td>\n",
              "    </tr>\n",
              "    <tr>\n",
              "      <th>log_loss_3_8</th>\n",
              "      <td>{'criterion': 'log_loss', 'max_depth': 3, 'min...</td>\n",
              "      <td>296</td>\n",
              "      <td>NaN</td>\n",
              "      <td>NaN</td>\n",
              "    </tr>\n",
              "    <tr>\n",
              "      <th>log_loss_3_7</th>\n",
              "      <td>{'criterion': 'log_loss', 'max_depth': 3, 'min...</td>\n",
              "      <td>297</td>\n",
              "      <td>NaN</td>\n",
              "      <td>NaN</td>\n",
              "    </tr>\n",
              "    <tr>\n",
              "      <th>log_loss_3_6</th>\n",
              "      <td>{'criterion': 'log_loss', 'max_depth': 3, 'min...</td>\n",
              "      <td>298</td>\n",
              "      <td>NaN</td>\n",
              "      <td>NaN</td>\n",
              "    </tr>\n",
              "    <tr>\n",
              "      <th>log_loss_4_6</th>\n",
              "      <td>{'criterion': 'log_loss', 'max_depth': 4, 'min...</td>\n",
              "      <td>299</td>\n",
              "      <td>NaN</td>\n",
              "      <td>NaN</td>\n",
              "    </tr>\n",
              "    <tr>\n",
              "      <th>log_loss_10_10</th>\n",
              "      <td>{'criterion': 'log_loss', 'max_depth': 10, 'mi...</td>\n",
              "      <td>300</td>\n",
              "      <td>NaN</td>\n",
              "      <td>NaN</td>\n",
              "    </tr>\n",
              "  </tbody>\n",
              "</table>\n",
              "<p>300 rows × 4 columns</p>\n",
              "</div>\n",
              "      <button class=\"colab-df-convert\" onclick=\"convertToInteractive('df-ca9a7ed1-04da-48b6-8a2a-d4d25a8a4c8b')\"\n",
              "              title=\"Convert this dataframe to an interactive table.\"\n",
              "              style=\"display:none;\">\n",
              "        \n",
              "  <svg xmlns=\"http://www.w3.org/2000/svg\" height=\"24px\"viewBox=\"0 0 24 24\"\n",
              "       width=\"24px\">\n",
              "    <path d=\"M0 0h24v24H0V0z\" fill=\"none\"/>\n",
              "    <path d=\"M18.56 5.44l.94 2.06.94-2.06 2.06-.94-2.06-.94-.94-2.06-.94 2.06-2.06.94zm-11 1L8.5 8.5l.94-2.06 2.06-.94-2.06-.94L8.5 2.5l-.94 2.06-2.06.94zm10 10l.94 2.06.94-2.06 2.06-.94-2.06-.94-.94-2.06-.94 2.06-2.06.94z\"/><path d=\"M17.41 7.96l-1.37-1.37c-.4-.4-.92-.59-1.43-.59-.52 0-1.04.2-1.43.59L10.3 9.45l-7.72 7.72c-.78.78-.78 2.05 0 2.83L4 21.41c.39.39.9.59 1.41.59.51 0 1.02-.2 1.41-.59l7.78-7.78 2.81-2.81c.8-.78.8-2.07 0-2.86zM5.41 20L4 18.59l7.72-7.72 1.47 1.35L5.41 20z\"/>\n",
              "  </svg>\n",
              "      </button>\n",
              "      \n",
              "  <style>\n",
              "    .colab-df-container {\n",
              "      display:flex;\n",
              "      flex-wrap:wrap;\n",
              "      gap: 12px;\n",
              "    }\n",
              "\n",
              "    .colab-df-convert {\n",
              "      background-color: #E8F0FE;\n",
              "      border: none;\n",
              "      border-radius: 50%;\n",
              "      cursor: pointer;\n",
              "      display: none;\n",
              "      fill: #1967D2;\n",
              "      height: 32px;\n",
              "      padding: 0 0 0 0;\n",
              "      width: 32px;\n",
              "    }\n",
              "\n",
              "    .colab-df-convert:hover {\n",
              "      background-color: #E2EBFA;\n",
              "      box-shadow: 0px 1px 2px rgba(60, 64, 67, 0.3), 0px 1px 3px 1px rgba(60, 64, 67, 0.15);\n",
              "      fill: #174EA6;\n",
              "    }\n",
              "\n",
              "    [theme=dark] .colab-df-convert {\n",
              "      background-color: #3B4455;\n",
              "      fill: #D2E3FC;\n",
              "    }\n",
              "\n",
              "    [theme=dark] .colab-df-convert:hover {\n",
              "      background-color: #434B5C;\n",
              "      box-shadow: 0px 1px 3px 1px rgba(0, 0, 0, 0.15);\n",
              "      filter: drop-shadow(0px 1px 2px rgba(0, 0, 0, 0.3));\n",
              "      fill: #FFFFFF;\n",
              "    }\n",
              "  </style>\n",
              "\n",
              "      <script>\n",
              "        const buttonEl =\n",
              "          document.querySelector('#df-ca9a7ed1-04da-48b6-8a2a-d4d25a8a4c8b button.colab-df-convert');\n",
              "        buttonEl.style.display =\n",
              "          google.colab.kernel.accessAllowed ? 'block' : 'none';\n",
              "\n",
              "        async function convertToInteractive(key) {\n",
              "          const element = document.querySelector('#df-ca9a7ed1-04da-48b6-8a2a-d4d25a8a4c8b');\n",
              "          const dataTable =\n",
              "            await google.colab.kernel.invokeFunction('convertToInteractive',\n",
              "                                                     [key], {});\n",
              "          if (!dataTable) return;\n",
              "\n",
              "          const docLinkHtml = 'Like what you see? Visit the ' +\n",
              "            '<a target=\"_blank\" href=https://colab.research.google.com/notebooks/data_table.ipynb>data table notebook</a>'\n",
              "            + ' to learn more about interactive tables.';\n",
              "          element.innerHTML = '';\n",
              "          dataTable['output_type'] = 'display_data';\n",
              "          await google.colab.output.renderOutput(dataTable, element);\n",
              "          const docLink = document.createElement('div');\n",
              "          docLink.innerHTML = docLinkHtml;\n",
              "          element.appendChild(docLink);\n",
              "        }\n",
              "      </script>\n",
              "    </div>\n",
              "  </div>\n",
              "  "
            ]
          },
          "metadata": {},
          "execution_count": 123
        }
      ],
      "source": [
        "results_df = pd.DataFrame(grid_search_tree.cv_results_)\n",
        "results_df = results_df.sort_values(by=[\"rank_test_score\"])\n",
        "results_df = results_df.set_index(\n",
        "    results_df[\"params\"].apply(lambda x: \"_\".join(str(val) for val in x.values()))\n",
        ").rename_axis(\"kernel\")\n",
        "results_df[[\"params\", \"rank_test_score\", \"mean_test_score\", \"std_test_score\"]]"
      ]
    },
    {
      "cell_type": "code",
      "execution_count": 124,
      "metadata": {
        "id": "4hAFY4Jrjyac",
        "colab": {
          "base_uri": "https://localhost:8080/"
        },
        "outputId": "26f16020-6725-4174-e139-6c69bbd934d3"
      },
      "outputs": [
        {
          "output_type": "execute_result",
          "data": {
            "text/plain": [
              "{'criterion': 'entropy', 'max_depth': 9, 'min_samples_leaf': 2}"
            ]
          },
          "metadata": {},
          "execution_count": 124
        }
      ],
      "source": [
        "grid_search_tree.best_params_"
      ]
    },
    {
      "cell_type": "markdown",
      "metadata": {
        "id": "cb13M08Wjyac"
      },
      "source": [
        "### Entrenamiento"
      ]
    },
    {
      "cell_type": "code",
      "execution_count": 125,
      "metadata": {
        "id": "CmdGmOtOjyad",
        "colab": {
          "base_uri": "https://localhost:8080/"
        },
        "outputId": "c343b8de-a660-44c5-cc3b-4a8500245203"
      },
      "outputs": [
        {
          "output_type": "execute_result",
          "data": {
            "text/plain": [
              "DecisionTreeClassifier(criterion='entropy', max_depth=9, min_samples_leaf=2,\n",
              "                       random_state=123)"
            ]
          },
          "metadata": {},
          "execution_count": 125
        }
      ],
      "source": [
        "tree_clf = DecisionTreeClassifier(criterion='entropy', max_depth=9, min_samples_leaf=2, random_state=123)\n",
        "tree_clf.fit(X_train, y_train)"
      ]
    },
    {
      "cell_type": "code",
      "execution_count": 126,
      "metadata": {
        "id": "QLdP9j7-jyad",
        "colab": {
          "base_uri": "https://localhost:8080/"
        },
        "outputId": "873b6ffd-9f4d-44f2-eafd-99167bf2d5ef"
      },
      "outputs": [
        {
          "output_type": "execute_result",
          "data": {
            "text/plain": [
              "array([0.8956229 , 0.91245791, 0.8956229 , 0.88175676, 0.89864865])"
            ]
          },
          "metadata": {},
          "execution_count": 126
        }
      ],
      "source": [
        "cross_val_score(tree_clf, X_train, y_train, cv=5, scoring=\"accuracy\")"
      ]
    },
    {
      "cell_type": "code",
      "execution_count": 127,
      "metadata": {
        "id": "IhUFdikQjyae"
      },
      "outputs": [],
      "source": [
        "y_train_pred_tree = cross_val_predict(tree_clf, X_train, y_train, cv=5)"
      ]
    },
    {
      "cell_type": "code",
      "execution_count": 128,
      "metadata": {
        "id": "c0yQWc4bjyaf",
        "colab": {
          "base_uri": "https://localhost:8080/",
          "height": 380
        },
        "outputId": "75e9b120-c607-4a2e-b642-4b0aa750688c"
      },
      "outputs": [
        {
          "output_type": "stream",
          "name": "stdout",
          "text": [
            "Accuracy: 0.8968\n",
            "Precision: 0.7697\n",
            "Recall: 0.5248\n",
            "F1 score: 0.6241\n"
          ]
        },
        {
          "output_type": "display_data",
          "data": {
            "text/plain": [
              "<Figure size 432x288 with 2 Axes>"
            ],
            "image/png": "[encoded data removed]"
          },
          "metadata": {
            "needs_background": "light"
          }
        }
      ],
      "source": [
        "print_metrics(y_train,y_train_pred_tree)"
      ]
    },
    {
      "cell_type": "markdown",
      "metadata": {
        "id": "YLnqXPKyjyag"
      },
      "source": [
        "### Validacion"
      ]
    },
    {
      "cell_type": "code",
      "execution_count": 129,
      "metadata": {
        "id": "kAV1kpC4jyah",
        "colab": {
          "base_uri": "https://localhost:8080/"
        },
        "outputId": "59311e75-437e-413b-9614-d0d72e559d75"
      },
      "outputs": [
        {
          "output_type": "execute_result",
          "data": {
            "text/plain": [
              "array([0, 1, 0, 0, 0, 0, 0, 0, 0, 0, 1, 0, 0, 0, 0, 0, 0, 1, 0, 1, 0, 0,\n",
              "       0, 0, 1, 1, 0, 0, 1, 0, 0, 0, 0, 0, 0, 0, 0, 0, 0, 0, 0, 0, 0, 0,\n",
              "       1, 0, 0, 0, 0, 0, 0, 1, 0, 0, 0, 1, 0, 0, 0, 0, 1, 1, 0, 0, 0, 0,\n",
              "       1, 0, 0, 0, 0, 0, 0, 0, 0, 0, 0, 0, 0, 1, 0, 0, 0, 0, 0, 1, 1, 0,\n",
              "       0, 0, 0, 0, 0, 0, 0, 0, 0, 1, 0, 0, 0, 0, 0, 0, 0, 0, 0, 0, 0, 0,\n",
              "       0, 0, 1, 0, 0, 0, 0, 0, 0, 0, 0, 0, 0, 0, 0, 1, 0, 0, 0, 0, 0, 0,\n",
              "       0, 0, 0, 0, 0, 0, 0, 1, 0, 0, 0, 0, 0, 0, 0, 0, 0, 0, 1, 0, 0, 0,\n",
              "       0, 0, 0, 0, 0, 0, 0, 0, 0, 0, 0, 0, 0, 0, 0, 1, 0, 0, 0, 0, 0, 0,\n",
              "       0, 0, 0, 0, 1, 0, 0, 0, 0, 0, 0, 0, 0, 0, 0, 0, 0, 1, 0, 1, 0, 0,\n",
              "       0, 0, 0, 0, 0, 0, 1, 0, 0, 0, 0, 1, 0, 0, 0, 0, 1, 0, 0, 1, 0, 0,\n",
              "       0, 0, 0, 0, 0, 0, 0, 0, 0, 0, 0, 0, 0, 0, 1, 1, 0, 1, 0, 0, 0, 0,\n",
              "       0, 0, 0, 0, 0, 0, 0, 0, 0, 0, 0, 1, 0, 0, 0, 0, 0, 0, 0, 0, 0, 0,\n",
              "       1, 0, 0, 0, 1, 0, 0, 0, 0, 0, 0, 0, 1, 0, 0, 0, 0, 0, 0, 1, 1, 0,\n",
              "       0, 0, 0, 0, 0, 0, 0, 0, 1, 0, 0, 0, 0, 0, 0, 0, 0, 0, 0, 0, 0, 1,\n",
              "       0, 0, 0, 0, 0, 0, 1, 0, 0, 0, 0, 0, 0, 1, 1, 0, 0, 0, 0, 0, 0, 0,\n",
              "       0, 0, 0, 0, 0, 0, 0, 0, 0, 0, 1, 0, 0, 0, 0, 0, 1, 0, 0, 0, 0, 0,\n",
              "       0, 0, 0, 0, 0, 0, 0, 0, 0, 0, 0, 0, 1, 0, 1, 1, 0, 0, 0])"
            ]
          },
          "metadata": {},
          "execution_count": 129
        }
      ],
      "source": [
        "tree_clf.predict(X_test)"
      ]
    },
    {
      "cell_type": "code",
      "execution_count": 130,
      "metadata": {
        "id": "gj-jL2qijyai",
        "colab": {
          "base_uri": "https://localhost:8080/"
        },
        "outputId": "5efb262c-a051-43cf-8010-3d3ff9c46876"
      },
      "outputs": [
        {
          "output_type": "execute_result",
          "data": {
            "text/plain": [
              "array([0.76      , 0.82432432, 0.81081081, 0.78378378, 0.85135135])"
            ]
          },
          "metadata": {},
          "execution_count": 130
        }
      ],
      "source": [
        "cross_val_score(tree_clf, X_test, y_test, cv=5, scoring=\"accuracy\")"
      ]
    },
    {
      "cell_type": "code",
      "execution_count": 131,
      "metadata": {
        "id": "xMJg7TNrjybD"
      },
      "outputs": [],
      "source": [
        "y_test_pred_tree = cross_val_predict(tree_clf, X_test, y_test, cv=5)"
      ]
    },
    {
      "cell_type": "code",
      "execution_count": 132,
      "metadata": {
        "id": "JajMhrp1jybE",
        "colab": {
          "base_uri": "https://localhost:8080/",
          "height": 380
        },
        "outputId": "299ba5af-d353-4bf2-9264-8df85c8c9aa1"
      },
      "outputs": [
        {
          "output_type": "stream",
          "name": "stdout",
          "text": [
            "Accuracy: 0.8059\n",
            "Precision: 0.4528\n",
            "Recall: 0.3582\n",
            "F1 score: 0.4\n"
          ]
        },
        {
          "output_type": "display_data",
          "data": {
            "text/plain": [
              "<Figure size 432x288 with 2 Axes>"
            ],
            "image/png": "[encoded data removed]"
          },
          "metadata": {
            "needs_background": "light"
          }
        }
      ],
      "source": [
        "print_metrics(y_test,y_test_pred_tree)"
      ]
    }
  ],
  "metadata": {
    "colab": {
      "name": "Lab 2_v2_final.ipynb",
      "provenance": [],
      "collapsed_sections": [
        "5yQciV9jjyZq",
        "QN0JX-f8jyaP",
        "9HZBnZdMjyaZ"
      ]
    },
    "kernelspec": {
      "display_name": "Python 3 (ipykernel)",
      "language": "python",
      "name": "python3"
    },
    "language_info": {
      "codemirror_mode": {
        "name": "ipython",
        "version": 3
      },
      "file_extension": ".py",
      "mimetype": "text/x-python",
      "name": "python",
      "nbconvert_exporter": "python",
      "pygments_lexer": "ipython3",
      "version": "3.9.1"
    }
  },
  "nbformat": 4,
  "nbformat_minor": 0
}